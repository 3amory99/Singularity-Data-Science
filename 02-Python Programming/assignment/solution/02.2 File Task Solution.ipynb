{
 "cells": [
  {
   "cell_type": "markdown",
   "metadata": {},
   "source": [
    "**1) Open a file, name it 'test.txt' and write 'hello world' for 5 times in it then close it.**"
   ]
  },
  {
   "cell_type": "code",
   "execution_count": 26,
   "metadata": {},
   "outputs": [],
   "source": [
    "f = open('test.txt', 'w+')\n",
    "f.write('hello world\\n' * 5)\n",
    "f.close()"
   ]
  },
  {
   "cell_type": "markdown",
   "metadata": {},
   "source": [
    "**2) Read the contents of the file, then make content in upercase then write the result again to the file.**"
   ]
  },
  {
   "cell_type": "code",
   "execution_count": 25,
   "metadata": {},
   "outputs": [],
   "source": [
    "f = open('test.txt', 'r')\n",
    "content = f.read()\n",
    "f.close()\n",
    "\n",
    "\n",
    "f = open('test.txt', 'w')\n",
    "f.write(content.upper())\n",
    "f.close()"
   ]
  },
  {
   "cell_type": "markdown",
   "metadata": {},
   "source": [
    "**3) Read the third line of the file then capitalize it then append the result to the file.**"
   ]
  },
  {
   "cell_type": "code",
   "execution_count": 27,
   "metadata": {},
   "outputs": [
    {
     "name": "stdout",
     "output_type": "stream",
     "text": [
      "['hello world\\n', 'hello world\\n', 'hello world\\n', 'hello world\\n', 'hello world\\n']\n",
      "['hello world\\n', 'hello world\\n', 'Hello world\\n', 'hello world\\n', 'hello world\\n']\n"
     ]
    }
   ],
   "source": [
    "f = open('test.txt', 'r')\n",
    "lines = f.readlines()\n",
    "print(lines)\n",
    "lines[2] = lines[2].capitalize()\n",
    "print(lines)\n",
    "f.close()\n",
    "\n",
    "\n",
    "f = open('test.txt', 'w')\n",
    "f.writelines(lines)\n",
    "f.close()"
   ]
  },
  {
   "cell_type": "markdown",
   "metadata": {},
   "source": [
    "**4) Using With Statement open this file and append 'I Love python' to it.**"
   ]
  },
  {
   "cell_type": "code",
   "execution_count": 28,
   "metadata": {},
   "outputs": [],
   "source": [
    "with open('test.txt', 'a') as f:\n",
    "    f.write('I Love Python')\n",
    "    "
   ]
  },
  {
   "cell_type": "markdown",
   "metadata": {},
   "source": [
    "# Great Work!"
   ]
  }
 ],
 "metadata": {
  "kernelspec": {
   "display_name": "Tensorflow GPU",
   "language": "python",
   "name": "tensorflow"
  },
  "language_info": {
   "codemirror_mode": {
    "name": "ipython",
    "version": 3
   },
   "file_extension": ".py",
   "mimetype": "text/x-python",
   "name": "python",
   "nbconvert_exporter": "python",
   "pygments_lexer": "ipython3",
   "version": "3.7.6"
  }
 },
 "nbformat": 4,
 "nbformat_minor": 4
}
