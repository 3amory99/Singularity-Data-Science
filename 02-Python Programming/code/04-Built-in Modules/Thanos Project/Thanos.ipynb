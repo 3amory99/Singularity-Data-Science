{
 "cells": [
  {
   "cell_type": "markdown",
   "metadata": {},
   "source": [
    "<img src=\"thanos.jpg\">"
   ]
  },
  {
   "cell_type": "code",
   "execution_count": 13,
   "metadata": {},
   "outputs": [],
   "source": [
    "import os\n",
    "import random"
   ]
  },
  {
   "cell_type": "code",
   "execution_count": 14,
   "metadata": {},
   "outputs": [],
   "source": [
    "def show_universe(place):\n",
    "    universe = os.listdir(place)\n",
    "    return universe\n",
    "        \n",
    "def thanos_snap(universe):\n",
    "    half_of_universe = int(len(universe) / 2)\n",
    "    for i in range(half_of_universe):\n",
    "        universe = show_universe('universe/')\n",
    "        os.remove('universe/' + random.choice(universe))\n",
    "    print('Perfectly balanced, as all things should be')"
   ]
  },
  {
   "cell_type": "code",
   "execution_count": 15,
   "metadata": {},
   "outputs": [
    {
     "name": "stdout",
     "output_type": "stream",
     "text": [
      "['cover001.png', 'cover002.png', 'cover003.png', 'cover004.png', 'cover005.png', 'cover006.png', 'cover007.png', 'cover008.png', 'cover009.png', 'cover010.png', 'cover011.png', 'cover012.png', 'cover013.png', 'cover014.png', 'cover015.png', 'cover016.png', 'cover017.png', 'cover018.png', 'cover019.png', 'cover020.png', 'cover021.png', 'cover022.png', 'cover023.png', 'cover024.png', 'cover025.png', 'cover026.png', 'cover027.png', 'cover028.png', 'cover029.png', 'cover030.png', 'cover031.png', 'cover032.png', 'cover033.png', 'cover034.png', 'cover035.png', 'cover036.png', 'cover037.png', 'cover038.png', 'cover039.png', 'cover040.png', 'cover041.png', 'cover042.png', 'cover043.png', 'cover044.png', 'cover045.png', 'cover046.png', 'cover047.png', 'cover048.png', 'cover049.png', 'cover050.png']\n"
     ]
    }
   ],
   "source": [
    "universe = show_universe('universe')\n",
    "print(universe)"
   ]
  },
  {
   "cell_type": "code",
   "execution_count": 16,
   "metadata": {},
   "outputs": [
    {
     "name": "stdout",
     "output_type": "stream",
     "text": [
      "cover017.png\n"
     ]
    }
   ],
   "source": [
    "print(random.choice(universe))"
   ]
  },
  {
   "cell_type": "code",
   "execution_count": 17,
   "metadata": {},
   "outputs": [
    {
     "name": "stdout",
     "output_type": "stream",
     "text": [
      "50\n"
     ]
    }
   ],
   "source": [
    "print(len(universe))"
   ]
  },
  {
   "cell_type": "code",
   "execution_count": 19,
   "metadata": {},
   "outputs": [
    {
     "name": "stdout",
     "output_type": "stream",
     "text": [
      "Perfectly balanced, as all things should be\n"
     ]
    }
   ],
   "source": [
    "thanos_snap(universe)"
   ]
  },
  {
   "cell_type": "code",
   "execution_count": 20,
   "metadata": {},
   "outputs": [],
   "source": [
    "new_universe = show_universe('universe')"
   ]
  },
  {
   "cell_type": "code",
   "execution_count": 21,
   "metadata": {},
   "outputs": [
    {
     "name": "stdout",
     "output_type": "stream",
     "text": [
      "25\n"
     ]
    }
   ],
   "source": [
    "print(len(new_universe))"
   ]
  },
  {
   "cell_type": "code",
   "execution_count": 22,
   "metadata": {},
   "outputs": [
    {
     "data": {
      "text/plain": [
       "['cover001.png',\n",
       " 'cover002.png',\n",
       " 'cover003.png',\n",
       " 'cover005.png',\n",
       " 'cover006.png',\n",
       " 'cover007.png',\n",
       " 'cover010.png',\n",
       " 'cover012.png',\n",
       " 'cover013.png',\n",
       " 'cover016.png',\n",
       " 'cover017.png',\n",
       " 'cover019.png',\n",
       " 'cover022.png',\n",
       " 'cover024.png',\n",
       " 'cover025.png',\n",
       " 'cover027.png',\n",
       " 'cover028.png',\n",
       " 'cover029.png',\n",
       " 'cover030.png',\n",
       " 'cover036.png',\n",
       " 'cover039.png',\n",
       " 'cover042.png',\n",
       " 'cover045.png',\n",
       " 'cover049.png',\n",
       " 'cover050.png']"
      ]
     },
     "execution_count": 22,
     "metadata": {},
     "output_type": "execute_result"
    }
   ],
   "source": [
    "new_universe"
   ]
  },
  {
   "cell_type": "code",
   "execution_count": null,
   "metadata": {},
   "outputs": [],
   "source": []
  }
 ],
 "metadata": {
  "kernelspec": {
   "display_name": "Python 3",
   "language": "python",
   "name": "python3"
  },
  "language_info": {
   "codemirror_mode": {
    "name": "ipython",
    "version": 3
   },
   "file_extension": ".py",
   "mimetype": "text/x-python",
   "name": "python",
   "nbconvert_exporter": "python",
   "pygments_lexer": "ipython3",
   "version": "3.7.6"
  }
 },
 "nbformat": 4,
 "nbformat_minor": 2
}
